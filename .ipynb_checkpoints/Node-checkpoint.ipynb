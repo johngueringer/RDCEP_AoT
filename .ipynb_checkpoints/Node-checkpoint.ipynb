{
 "cells": [
  {
   "cell_type": "code",
   "execution_count": 1,
   "metadata": {
    "collapsed": false
   },
   "outputs": [
    {
     "ename": "ImportError",
     "evalue": "cannot import name DualSensor",
     "output_type": "error",
     "traceback": [
      "\u001b[1;31m---------------------------------------------------------------------------\u001b[0m",
      "\u001b[1;31mImportError\u001b[0m                               Traceback (most recent call last)",
      "\u001b[1;32m<ipython-input-1-3fac7bb27e2e>\u001b[0m in \u001b[0;36m<module>\u001b[1;34m()\u001b[0m\n\u001b[0;32m      5\u001b[0m \u001b[1;32mfrom\u001b[0m \u001b[0mConfigParser\u001b[0m \u001b[1;32mimport\u001b[0m \u001b[0mConfigParser\u001b[0m\u001b[1;33m\u001b[0m\u001b[0m\n\u001b[0;32m      6\u001b[0m \u001b[1;32mfrom\u001b[0m \u001b[0mconstants\u001b[0m \u001b[1;32mimport\u001b[0m \u001b[0mSENSOR_CODES\u001b[0m\u001b[1;33m,\u001b[0m \u001b[0mGRID_SENSOR\u001b[0m\u001b[1;33m,\u001b[0m \u001b[0mDATA_URI\u001b[0m\u001b[1;33m\u001b[0m\u001b[0m\n\u001b[1;32m----> 7\u001b[1;33m \u001b[1;32mfrom\u001b[0m \u001b[0msensor\u001b[0m \u001b[1;32mimport\u001b[0m \u001b[0mSensor\u001b[0m\u001b[1;33m,\u001b[0m \u001b[0mDualSensor\u001b[0m\u001b[1;33m,\u001b[0m \u001b[0mGridSensor\u001b[0m\u001b[1;33m\u001b[0m\u001b[0m\n\u001b[0m\u001b[0;32m      8\u001b[0m \u001b[1;33m\u001b[0m\u001b[0m\n\u001b[0;32m      9\u001b[0m \u001b[1;33m\u001b[0m\u001b[0m\n",
      "\u001b[1;31mImportError\u001b[0m: cannot import name DualSensor"
     ]
    }
   ],
   "source": [
    "#!/usr/bin/env python\n",
    "# -*- coding: utf-8 -*-\n",
    "import urllib2\n",
    "import datetime as dt\n",
    "from ConfigParser import ConfigParser\n",
    "from constants import SENSOR_CODES, GRID_SENSOR, DATA_URI\n",
    "from sensor import Sensor, DualSensor, GridSensor\n",
    "\n",
    "\n",
    "config = ConfigParser('config.ini')\n",
    "\n",
    "\n",
    "class Node(object):\n",
    "    def __init__(self, node):\n",
    "        self.node = node\n",
    "        self._sensors = {k: [] for k in SENSOR_CODES}\n",
    "\n",
    "    @property\n",
    "    def latlon(self):\n",
    "        return None\n",
    "\n",
    "    @property\n",
    "    def node(self):\n",
    "        return self._node\n",
    "    \n",
    "    @property\n",
    "    def sensors(self):\n",
    "        return self._sensors\n",
    "\n",
    "    def sensor(self, code):\n",
    "        return next([c for c in self.sensors if c.code == code], None)\n",
    "\n",
    "    def pull_all(self, strt, stp):\n",
    "        urls = self.makeURLs(strt, stp)\n",
    "        grid_sensor = GRID_SENSOR\n",
    "        \n",
    "        models = self._sensors.keys()\n",
    "\n",
    "        for url in urls:\n",
    "            try:\n",
    "                request = urllib2.Request(url)\n",
    "                handle = urllib2.urlopen(request)\n",
    "                lines = handle.readlines()\n",
    "\n",
    "                for line in lines[:15]:\n",
    "                    code = line.split(',')[0].split('.')[0]\n",
    "                    sensor = {'MLX90614ESF-DAA': Sensor,\n",
    "                              'D6T-44L-06': GridSensor,\n",
    "                              'TMP421': Sensor,\n",
    "                              'BMP180': Sensor,\n",
    "                              'PDV_P8104': Sensor,\n",
    "                              'Thermistor_NTC_PR103J2': Sensor,\n",
    "                              'HIH6130': DualSensor, \n",
    "                              'SHT15': DualSensor, \n",
    "                              'DS18B20': Sensor, \n",
    "                              'RHT03': DualSensor,\n",
    "                              'SHT75': DualSensor, \n",
    "                              'HIH4030': Sensor, \n",
    "                              'GA1A1S201WP': Sensor, \n",
    "                              'MAX4466': Sensor, \n",
    "                              'HTU21D': DualSensor}\n",
    "                    \n",
    "                    self._sensors[code] = sensor[code](code)\n",
    "                \n",
    "                for line in lines[15:]:\n",
    "                    code = line.split(',')[0].split('.')[0]\n",
    "                    getData = {'MLX90614ESF-DAA': add_point,\n",
    "                              'D6T-44L-06': add_point,\n",
    "                              'TMP421': add_point,\n",
    "                              'BMP180': add_point,\n",
    "                              'PDV_P8104': add_point,\n",
    "                              'Thermistor_NTC_PR103J2': add_point,\n",
    "                              'HIH6130': add_point, \n",
    "                              'SHT15': add_point, \n",
    "                              'DS18B20': add_point, \n",
    "                              'RHT03': add_point,\n",
    "                              'SHT75': add_point, \n",
    "                              'HIH4030': add_point, \n",
    "                              'GA1A1S201WP': add_point, \n",
    "                              'MAX4466': add_point, \n",
    "                              'HTU21D': add_point}\n",
    "                    self._sensors[code].sensor[code](line)\n",
    "                    \n",
    "            except:\n",
    "                print \"Missing data from: \" + url\n",
    "\n",
    "        return aot_node\n",
    "\n",
    "    def makeURLs(self, strt_dte, stp_dte):\n",
    "        urls = []\n",
    "\n",
    "        strt_dte_data = strt_dte.split('-')\n",
    "        stp_dte_data = stp_dte.split('-')\n",
    "\n",
    "        strt = dt.datetime(int(strt_dte_data[2]), int(strt_dte_data[0]), int(strt_dte_data[1]))\n",
    "        stp = dt.datetime(int(stp_dte_data[2]), int(stp_dte_data[0]), int(stp_dte_data[1]))\n",
    "        diff = stp - strt\n",
    "\n",
    "        total_hrs = (diff.days + 1) * 24\n",
    "        delta = dt.timedelta(hours=1)\n",
    "\n",
    "        for i in range(total_hrs):\n",
    "            if strt.month < 10:\n",
    "                mm = '0' + str(strt.month)\n",
    "            else:\n",
    "                mm = str(strt.month)\n",
    "            if strt.day < 10:\n",
    "                dd = '0' + str(strt.day)\n",
    "            else:\n",
    "                dd = str(strt.day)\n",
    "            if strt.hour < 10:\n",
    "                hh = '0' + str(strt.hour)\n",
    "            else:\n",
    "                hh = str(strt.hour)\n",
    "            yy = str(strt.year)\n",
    "\n",
    "            url = DATA_URI.format(self.node, mm, dd, yy, hh)\n",
    "            urls.append(url)\n",
    "            strt += delta\n",
    "\n",
    "        return urls\n",
    "\n",
    "    def to_datetime(self, s):\n",
    "        return dt.datetime.strptime(s, '%m/%d/%y %H:%M:%S')\n"
   ]
  },
  {
   "cell_type": "code",
   "execution_count": 9,
   "metadata": {
    "collapsed": false
   },
   "outputs": [
    {
     "name": "stdout",
     "output_type": "stream",
     "text": [
      "20\n"
     ]
    }
   ],
   "source": [
    "def stuff(x):\n",
    "    print x\n",
    "    \n",
    "def foo(x):\n",
    "    print 2*x\n",
    " \n",
    "x = 10\n",
    "options = {1: stuff,\n",
    "          2: foo}\n",
    "\n",
    "options[2](x)"
   ]
  },
  {
   "cell_type": "code",
   "execution_count": null,
   "metadata": {
    "collapsed": true
   },
   "outputs": [],
   "source": []
  }
 ],
 "metadata": {
  "kernelspec": {
   "display_name": "Python 2",
   "language": "python",
   "name": "python2"
  },
  "language_info": {
   "codemirror_mode": {
    "name": "ipython",
    "version": 2
   },
   "file_extension": ".py",
   "mimetype": "text/x-python",
   "name": "python",
   "nbconvert_exporter": "python",
   "pygments_lexer": "ipython2",
   "version": "2.7.9"
  }
 },
 "nbformat": 4,
 "nbformat_minor": 0
}
