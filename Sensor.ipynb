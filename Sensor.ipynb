{
 "cells": [
  {
   "cell_type": "code",
   "execution_count": 22,
   "metadata": {
    "collapsed": false
   },
   "outputs": [],
   "source": [
    "#!/usr/bin/env python\n",
    "# -*- coding: utf-8 -*-\n",
    "import datetime as dt\n",
    "\n",
    "\n",
    "class Sensor(object):\n",
    "    def __init__(self, code):\n",
    "        self.code = code\n",
    "        self._data = []\n",
    "        self._sensor_name = None\n",
    "        self._dtype = []\n",
    "        self._context = None\n",
    "\n",
    "    @property\n",
    "    def data(self):\n",
    "        return self._data\n",
    "\n",
    "\n",
    "    @property\n",
    "    def sensor_name(self):\n",
    "        return self._sensor_name\n",
    "\n",
    "    @property\n",
    "    def dtype(self):\n",
    "        return self._dtype\n",
    "\n",
    "    @property\n",
    "    def context(self):\n",
    "        return self._context\n",
    "\n",
    "    def add_point(self, line):\n",
    "        arr = line.split(',')\n",
    "        name = arr[0]\n",
    "        timestamp = dt.datetime.strptime(arr[1], '%m/%d/%y %H:%M:%S')\n",
    "        dtypes = []\n",
    "        self._sensor_name = name\n",
    "\n",
    "        data = arr[2:]\n",
    "        for datum in data:\n",
    "            info = datum.split(';')\n",
    "            type = info[0]\n",
    "            unit = info[2]\n",
    "            val = (timestamp, float(info[1]))\n",
    "            context = info[3]\n",
    "            \n",
    "            dtype = (type, unit)\n",
    "            dtypes.append(dtype)\n",
    "            \n",
    "            self._data.append(val)\n",
    "            self._dtype = dtypes\n",
    "            self._context = context\n",
    "    \n",
    "class DualSensor(Sensor):\n",
    "    def __init__(self, code):\n",
    "        super(DualSensor, self).__init__(code)\n",
    "        self._data2 = []\n",
    "    \n",
    "    @property\n",
    "    def data2(self):\n",
    "        return data2\n",
    "    \n",
    "    @property\n",
    "    def add_point(self, line):\n",
    "        arr = line.split(',')\n",
    "        name = arr[0]\n",
    "        timestamp = dt.datetime.strptime(arr[1], '%m/%d/%y %H:%M:%S')\n",
    "        dtypes = []\n",
    "        self._sensor_name = name\n",
    "\n",
    "        data = arr[2:]\n",
    "        i = 0\n",
    "        for datum in data:\n",
    "            info = datum.split(';')\n",
    "            type = info[0]\n",
    "            unit = info[2]\n",
    "            val = (timestamp, float(info[1]))\n",
    "            context = info[3]\n",
    "            \n",
    "            dtype = (type, unit)\n",
    "            dtypes.append(dtype)\n",
    "            \n",
    "            self._dtype = dtypes\n",
    "            self._context = context\n",
    "            if i == 0:\n",
    "                self._data.append(val)\n",
    "            else:\n",
    "                self._data2.append(val)\n",
    "            i+=1\n",
    "            \n",
    "class GridSensor(Sensor):\n",
    "    def __init__(self, code):\n",
    "        super(GridSensor, self).__init__(code)\n",
    "        \n",
    "    def add_point(self, line):\n",
    "        arr = line.split(',')\n",
    "        name = arr[0]\n",
    "        timestamp = dt.datetime.strptime(arr[1], '%m/%d/%y %H:%M:%S')\n",
    "        vals = []\n",
    "        dtypes = []\n",
    "        self._sensor_name = name\n",
    "\n",
    "        data = arr[2:]\n",
    "        i = 0\n",
    "        for datum in data:\n",
    "            info = datum.split(';')\n",
    "            type = info[0]\n",
    "            unit = info[2]\n",
    "            val = (timestamp, float(info[1]))\n",
    "            context = info[3]\n",
    "            \n",
    "            dtype = (type, unit)\n",
    "            dtypes.append(dtype)\n",
    "            vals.append(val)\n",
    "        \n",
    "            self._dtype = dtypes\n",
    "            self._context = context\n",
    "            \n",
    "        self._data.append(vals)\n",
    "            "
   ]
  },
  {
   "cell_type": "code",
   "execution_count": 23,
   "metadata": {
    "collapsed": false
   },
   "outputs": [
    {
     "ename": "TypeError",
     "evalue": "add_point() takes exactly 2 arguments (1 given)",
     "output_type": "error",
     "traceback": [
      "\u001b[1;31m---------------------------------------------------------------------------\u001b[0m",
      "\u001b[1;31mTypeError\u001b[0m                                 Traceback (most recent call last)",
      "\u001b[1;32m<ipython-input-23-0a20e2dda23f>\u001b[0m in \u001b[0;36m<module>\u001b[1;34m()\u001b[0m\n\u001b[0;32m      1\u001b[0m \u001b[0msensor\u001b[0m \u001b[1;33m=\u001b[0m \u001b[0mDualSensor\u001b[0m\u001b[1;33m(\u001b[0m\u001b[1;34m'BMP180'\u001b[0m\u001b[1;33m)\u001b[0m\u001b[1;33m\u001b[0m\u001b[0m\n\u001b[1;32m----> 2\u001b[1;33m \u001b[0msensor\u001b[0m\u001b[1;33m.\u001b[0m\u001b[0madd_point\u001b[0m\u001b[1;33m(\u001b[0m\u001b[1;34m'BMP180.Bosch.2_5-2013,10/10/15 09:00:03,Temperature;16.02;C;none,Pressure;100194.0;PA;Barometric'\u001b[0m\u001b[1;33m)\u001b[0m\u001b[1;33m\u001b[0m\u001b[0m\n\u001b[0m",
      "\u001b[1;31mTypeError\u001b[0m: add_point() takes exactly 2 arguments (1 given)"
     ]
    }
   ],
   "source": [
    "sensor = DualSensor('BMP180')\n",
    "sensor.add_point('BMP180.Bosch.2_5-2013,10/10/15 09:00:03,Temperature;16.02;C;none,Pressure;100194.0;PA;Barometric')"
   ]
  },
  {
   "cell_type": "code",
   "execution_count": 17,
   "metadata": {
    "collapsed": false
   },
   "outputs": [
    {
     "name": "stdout",
     "output_type": "stream",
     "text": [
      "[[(datetime.datetime(2015, 10, 10, 9, 0, 3), 16.02), (datetime.datetime(2015, 10, 10, 9, 0, 3), 100194.0)]]\n"
     ]
    }
   ],
   "source": [
    "print sensor.data"
   ]
  },
  {
   "cell_type": "code",
   "execution_count": 18,
   "metadata": {
    "collapsed": false
   },
   "outputs": [
    {
     "name": "stdout",
     "output_type": "stream",
     "text": [
      "((datetime.datetime(2015, 10, 10, 9, 0, 3), 16.02),)\n",
      "((datetime.datetime(2015, 10, 10, 9, 0, 3), 100194.0),)\n"
     ]
    }
   ],
   "source": [
    "pairs = [(1,2), (2,3), (3,4), (4,5)]\n",
    "x, y = zip(*sensor.data)\n",
    "print x\n",
    "print y"
   ]
  },
  {
   "cell_type": "code",
   "execution_count": null,
   "metadata": {
    "collapsed": true
   },
   "outputs": [],
   "source": []
  }
 ],
 "metadata": {
  "kernelspec": {
   "display_name": "Python 2",
   "language": "python",
   "name": "python2"
  },
  "language_info": {
   "codemirror_mode": {
    "name": "ipython",
    "version": 2
   },
   "file_extension": ".py",
   "mimetype": "text/x-python",
   "name": "python",
   "nbconvert_exporter": "python",
   "pygments_lexer": "ipython2",
   "version": "2.7.9"
  }
 },
 "nbformat": 4,
 "nbformat_minor": 0
}
